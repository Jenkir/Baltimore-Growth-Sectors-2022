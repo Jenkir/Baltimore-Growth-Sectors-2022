{
 "cells": [
  {
   "cell_type": "code",
   "execution_count": 2,
   "metadata": {},
   "outputs": [
    {
     "name": "stdout",
     "output_type": "stream",
     "text": [
      "Requirement already satisfied: PyPDF2 in c:\\users\\jenkir\\anaconda3\\envs\\pythondata\\lib\\site-packages (2.10.7)\n",
      "Requirement already satisfied: typing-extensions>=3.10.0.0; python_version < \"3.10\" in c:\\users\\jenkir\\anaconda3\\envs\\pythondata\\lib\\site-packages (from PyPDF2) (4.3.0)\n",
      "Note: you may need to restart the kernel to use updated packages.\n"
     ]
    }
   ],
   "source": [
    "# pip install PyPDF2"
   ]
  },
  {
   "cell_type": "code",
   "execution_count": 3,
   "metadata": {},
   "outputs": [],
   "source": [
    "import pandas as pd\n",
    "import os\n",
    "import PyPDF2"
   ]
  },
  {
   "cell_type": "code",
   "execution_count": 4,
   "metadata": {},
   "outputs": [],
   "source": [
    "# Instructions from https://www.geeksforgeeks.org/extract-text-from-pdf-file-using-python/\n",
    "# Open the pdf in binary mode (otherwise by default, Python opens files in text mode) & create a pdf file object\n",
    "pdfFileObj = open('Maj_2015.pdf', 'rb')"
   ]
  },
  {
   "cell_type": "code",
   "execution_count": 6,
   "metadata": {},
   "outputs": [
    {
     "name": "stdout",
     "output_type": "stream",
     "text": [
      "1\n"
     ]
    }
   ],
   "source": [
    "# Create pdf reader object and print # of pages in pdf file\n",
    "pdfReader = PyPDF2.PdfFileReader(pdfFileObj)\n",
    "print(pdfReader.numPages)"
   ]
  },
  {
   "cell_type": "code",
   "execution_count": 8,
   "metadata": {},
   "outputs": [],
   "source": [
    "# Create a page object\n",
    "pageObj = pdfReader.getPage(0)"
   ]
  },
  {
   "cell_type": "code",
   "execution_count": 9,
   "metadata": {},
   "outputs": [
    {
     "name": "stdout",
     "output_type": "stream",
     "text": [
      " \n",
      " \n",
      "Company  Number \n",
      "Employed  Product / Service  Industry  \n",
      "Johns Hopkins University  25,000  Higher education  Educational services  \n",
      "Johns Hopkins Hospital & Health System 1/  19,340  Medical services  Health care  \n",
      "University of Maryland Medical System 2/  9,830  Medical services  Health care  \n",
      "University System of Maryland 3/  9,111  Higher education  Educational services  \n",
      "MedStar Health 4/  6,027 Medical services  Health care  \n",
      "LifeBridge Health 5/  5,316  Medical services  Health care  \n",
      "Mercy Health Services  4,028  Medical services  Health care  \n",
      "St. Agnes HealthCare  3,267  Medical services  Health care  \n",
      "Exelon  2,952  Energy products & services  Utilities  \n",
      "Kennedy Krieger Institute  2,417  Health services for children with \n",
      "disabilities  Health care  \n",
      "Maryland Institute College of Art  2,142  Higher education  Educational services  \n",
      "Horseshoe Casino  2,140  Casino  Arts Entertainment and \n",
      "Recreation  \n",
      "Veterans Health Administration* 6/  2,061  Medical services  Health care  \n",
      "Under Armour  1,853  HQ / athletic apparel  Manufacturing  \n",
      "FutureCare  1,709  Nursing care  Health care  \n",
      "Morgan State University  1,701  Higher education  Educational services  \n",
      "U.S. Social Security Administration*  1,600  Income security program  Federal government  \n",
      "H&S Bakery  1,574  Commercial food products  Manufacturing  \n",
      "Broadway Services  1,538  Support services management  Administrative services  \n",
      "Loyola University Maryland  1,360  Higher education  Educational services  \n",
      "T. Rowe Price Group  1,300  HQ / financial services  Finance and insurance  \n",
      "U.S. Army Corps of Engineers*  1,135  Engineering services  Professional services  \n",
      "Marriott International  1,096  Hotels & motels  Accommodation and \n",
      "food services  \n",
      "M&T Bank  1,058  Banking services  Finance and insurance  \n",
      "Laureate Education  1,000  HQ / higher education  Educational services  \n",
      "Baltimore City Community College  907 Higher education  Educational services  \n",
      "Baltimore Sun  850 Newspaper publishing & printing  Information  \n",
      "Morgan Stanley  850 Financial services  Finance and insurance  \n",
      "Ports America Chesapeake  850 Marine cargo handling  Transportation and \n",
      "warehousing  \n",
      "Bon Secours Baltimore Health System  850 Medical services  Health care  \n",
      "Abacus  800 Security services  Administrative services  \n",
      "Agora  675 Newsletter & book publishing  Information  \n",
      "Note: Excludes post offices, state and local governments; includes public highe r education institutions.    \n",
      "1/ Includes JH Hospital, Bayview Medical Center , JH Community Physicians, JH Health System Corp, JH He alth Care and \n",
      "JH Home Care Group.       \n",
      "2/ Includes UMMC, UMMC Midtown Campus, UM Rehabilitation & Orthopedic  Inst., and Mt. Washington P ediatric Hosp.  \n",
      "3/ Includes UMB, UB, and Coppin State University.        \n",
      "4/ Includes MedStar Union Memorial Hospital, MedStar Good Samaritan Hospital and MedStar Harbor Hospital.   \n",
      "5/ Includes Sinai Hospital and Levindale.        \n",
      "6/ Inclu des VA Maryland Health Care System/Baltimore VA Medical Center, Loch Ra ven VA Community Living & \n",
      "Rehabilitation Center, and Loch Raven VA Outpatient Clinic.        \n",
      "*Employee counts for federal and military facilities exclude contractors to the extent possib le; embedded contractors may \n",
      "be included.         \n",
      "Sources: Baltimore Development Corporation  and Maryland Department of  Commerce , October 2015.  Major Employers in Baltimore City, Maryland   \n",
      " \n"
     ]
    }
   ],
   "source": [
    "# Extract text from the page\n",
    "print(pageObj.extractText())"
   ]
  },
  {
   "cell_type": "code",
   "execution_count": null,
   "metadata": {},
   "outputs": [],
   "source": [
    "# Close the pdf file object\n",
    "pdfFileObj.close()"
   ]
  },
  {
   "cell_type": "code",
   "execution_count": null,
   "metadata": {
    "slideshow": {
     "slide_type": "slide"
    }
   },
   "outputs": [],
   "source": [
    "\n"
   ]
  },
  {
   "cell_type": "markdown",
   "metadata": {
    "slideshow": {
     "slide_type": "subslide"
    }
   },
   "source": [
    "#### What we get in return is a list of dataframes for any tabular data that Pandas found."
   ]
  },
  {
   "cell_type": "markdown",
   "metadata": {
    "slideshow": {
     "slide_type": "subslide"
    }
   },
   "source": [
    "#### We can slice off any of those dataframes that we want using normal indexing."
   ]
  },
  {
   "cell_type": "markdown",
   "metadata": {
    "slideshow": {
     "slide_type": "subslide"
    }
   },
   "source": [
    "#### Drop all single header rows"
   ]
  },
  {
   "cell_type": "code",
   "execution_count": null,
   "metadata": {
    "slideshow": {
     "slide_type": "fragment"
    }
   },
   "outputs": [],
   "source": [
    "df.columns = df.columns.get_level_values(0)\n",
    "df = df.loc[df.Ref.str.startswith(\"[\")]\n",
    "df.head()"
   ]
  },
  {
   "cell_type": "markdown",
   "metadata": {
    "slideshow": {
     "slide_type": "subslide"
    }
   },
   "source": [
    "#### Slipt column values into two separate columns"
   ]
  },
  {
   "cell_type": "code",
   "execution_count": null,
   "metadata": {
    "scrolled": false,
    "slideshow": {
     "slide_type": "fragment"
    }
   },
   "outputs": [],
   "source": [
    "columnsplit = df['City'].str.split(\", \", expand=True)\n",
    "df = df.assign(City=columnsplit[0],State=columnsplit[1])\n",
    "df.head()"
   ]
  },
  {
   "cell_type": "markdown",
   "metadata": {
    "slideshow": {
     "slide_type": "subslide"
    }
   },
   "source": [
    "#### Drop a column"
   ]
  },
  {
   "cell_type": "code",
   "execution_count": null,
   "metadata": {},
   "outputs": [],
   "source": [
    "df = df.drop(['Ref'], axis=1)\n",
    "df.head()"
   ]
  },
  {
   "cell_type": "markdown",
   "metadata": {},
   "source": [
    "#### Reset an index"
   ]
  },
  {
   "cell_type": "code",
   "execution_count": null,
   "metadata": {},
   "outputs": [],
   "source": [
    "df = df.reset_index(drop=True)\n",
    "df.head()"
   ]
  },
  {
   "cell_type": "code",
   "execution_count": null,
   "metadata": {},
   "outputs": [],
   "source": [
    "df.loc[df.State==\"New York\"]"
   ]
  },
  {
   "cell_type": "code",
   "execution_count": null,
   "metadata": {},
   "outputs": [],
   "source": []
  }
 ],
 "metadata": {
  "kernelspec": {
   "display_name": "Python 3",
   "language": "python",
   "name": "python3"
  },
  "language_info": {
   "codemirror_mode": {
    "name": "ipython",
    "version": 3
   },
   "file_extension": ".py",
   "mimetype": "text/x-python",
   "name": "python",
   "nbconvert_exporter": "python",
   "pygments_lexer": "ipython3",
   "version": "3.7.9"
  },
  "varInspector": {
   "cols": {
    "lenName": 16,
    "lenType": 16,
    "lenVar": 40
   },
   "kernels_config": {
    "python": {
     "delete_cmd_postfix": "",
     "delete_cmd_prefix": "del ",
     "library": "var_list.py",
     "varRefreshCmd": "print(var_dic_list())"
    },
    "r": {
     "delete_cmd_postfix": ") ",
     "delete_cmd_prefix": "rm(",
     "library": "var_list.r",
     "varRefreshCmd": "cat(var_dic_list()) "
    }
   },
   "types_to_exclude": [
    "module",
    "function",
    "builtin_function_or_method",
    "instance",
    "_Feature"
   ],
   "window_display": false
  }
 },
 "nbformat": 4,
 "nbformat_minor": 2
}
